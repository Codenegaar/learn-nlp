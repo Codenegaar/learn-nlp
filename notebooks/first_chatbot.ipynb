{
 "cells": [
  {
   "cell_type": "markdown",
   "id": "ce9a2833-3f2c-4a00-b221-b7bcc491c4f9",
   "metadata": {},
   "source": [
    "# My first chatbot\n",
    "\n",
    "It's just a silly chatbot, just to test regexes and the mechanism of a chatbot."
   ]
  },
  {
   "cell_type": "markdown",
   "id": "870bcd01-fd65-4a45-a615-261577ab3a61",
   "metadata": {},
   "source": [
    "First I create a state machine to handle the chatbot states and their transition."
   ]
  },
  {
   "cell_type": "code",
   "execution_count": 1,
   "id": "dfe0f1b9-3a96-447f-9ba1-510d29b318dc",
   "metadata": {},
   "outputs": [],
   "source": [
    "from enum import Enum\n",
    "from enum import auto\n",
    "\n",
    "# Define an enum for states\n",
    "class State(Enum):\n",
    "    LAMBDA = auto()\n",
    "    USER_GREETED = auto()\n",
    "    USER_INTRODUCED = auto()\n",
    "    USER_FINISHED = auto()"
   ]
  },
  {
   "cell_type": "code",
   "execution_count": 2,
   "id": "354eeac0-0f01-4dc1-92a4-2aec1052b32c",
   "metadata": {},
   "outputs": [],
   "source": [
    "# List of triggers which may change the machine's state\n",
    "class Trigger(Enum):\n",
    "    SAID_GREETING = auto()\n",
    "    INTRODUCED = auto()\n",
    "    SAID_GOODBYE = auto()\n",
    "    INVALID_INPUT = auto()"
   ]
  },
  {
   "cell_type": "code",
   "execution_count": 3,
   "id": "c8c2cdff-58a6-4094-a2d1-7bf41fcb0380",
   "metadata": {},
   "outputs": [],
   "source": [
    "# Actions are functions that are called while transiting\n",
    "# from a state to another\n",
    "from abc import ABC, abstractmethod\n",
    "class Action(ABC):\n",
    "    @abstractmethod\n",
    "    def exec(self, current_state, next_state, trigger, data):\n",
    "        return\n",
    "\n",
    "class InvalidInputAction(Action):\n",
    "    def exec(self, current_state, next_state, trigger, data):\n",
    "        print('متوجه نشدم. شاید بهتر باشه بهم سلام کنی یا خودتو معرفی کنی!')\n",
    "\n",
    "class SayHelloAction(Action):\n",
    "    def exec(self, current_state, next_state, trigger, data):\n",
    "        print('درود بر تو! میشه خودتو معرفی کنی؟')\n",
    "\n",
    "class WhyNotHelloAction(Action):\n",
    "    def exec(self, current_state, next_state, trigger, data):\n",
    "        print('{} عزیز، خیلی خوب میشد اگه قبل از گفتن اسمت بهم سلام می‌کردی :)'.format(data['name']))\n",
    "\n",
    "class SayGoodbyeAction(Action):\n",
    "    def exec(self, current_state, next_state, trigger, data):\n",
    "        if data and data['name']:\n",
    "            print('روز خوبی داشته باشی {} عزیز'.format(data['name']))\n",
    "        else:\n",
    "            print('روز خوبی داشته باشی')\n",
    "            \n",
    "class SayHelloAgainAction(Action):\n",
    "    def exec(self, current_state, next_state, trigger, data):\n",
    "        print('بازم سلام :) چی باید صدات کنم؟')\n",
    "\n",
    "class SayTheirNameAction(Action):\n",
    "    def exec(self, current_state, next_state, trigger, data):\n",
    "        if data and data['name']:\n",
    "            print('سلام {}، از آشناییت خوشبختم :)'.format(data['name']))\n",
    "        else:\n",
    "            print('افتادیم تو سیاه‌چاله')"
   ]
  },
  {
   "cell_type": "code",
   "execution_count": 4,
   "id": "e2718ea8-609f-44c5-8c1b-d689ddd3390b",
   "metadata": {},
   "outputs": [],
   "source": [
    "# The state machine class handles the machine transitions and\n",
    "# executing the actions\n",
    "class StateMachine:\n",
    "    def __init__(self, initial_state):\n",
    "        self.state = initial_state\n",
    "        self.transitions = []\n",
    "        self.data = {}\n",
    "\n",
    "    # Add transition. If a transition with the same starting state and trigger\n",
    "    # exists, this new transition is replaced\n",
    "    def add_transition(self, from_state, to_state, trigger, action):\n",
    "        replaced = False\n",
    "        for i in range(len(self.transitions)):\n",
    "            if self.transitions[i]['from_state'] == from_state and self.transitions[i]['trigger'] == trigger:\n",
    "                replaced = True\n",
    "                self.transitions[i] = {\n",
    "                    'from_state': from_state,\n",
    "                    'to_state': to_state,\n",
    "                    'trigger': trigger,\n",
    "                    'action': action\n",
    "                }\n",
    "\n",
    "        if replaced == False:\n",
    "            self.transitions.append({\n",
    "                'from_state': from_state,\n",
    "                'to_state': to_state,\n",
    "                'trigger': trigger,\n",
    "                'action': action\n",
    "            });\n",
    "\n",
    "    def handle_trigger(self, trigger):\n",
    "        for transition in self.transitions:\n",
    "            if transition['from_state'] == self.state and transition['trigger'] == trigger:\n",
    "                if transition['action'] != None:\n",
    "                    transition['action'].exec(self.state, transition['to_state'], trigger, self.data)\n",
    "                self.state = transition['to_state']\n",
    "                break\n",
    "\n",
    "    def set_data(self, data):\n",
    "        self.data = data"
   ]
  },
  {
   "cell_type": "code",
   "execution_count": 5,
   "id": "0d717e61-15e1-42d1-8116-ef7999f9554d",
   "metadata": {},
   "outputs": [],
   "source": [
    "# Instantiate the state machine and add transitions\n",
    "state_machine = StateMachine(State.LAMBDA)\n",
    "state_machine.add_transition(State.LAMBDA, State.LAMBDA, Trigger.INVALID_INPUT, InvalidInputAction())\n",
    "state_machine.add_transition(State.LAMBDA, State.USER_GREETED, Trigger.SAID_GREETING, SayHelloAction())\n",
    "state_machine.add_transition(State.LAMBDA, State.USER_INTRODUCED, Trigger.INTRODUCED, WhyNotHelloAction())\n",
    "state_machine.add_transition(State.LAMBDA, State.USER_FINISHED, Trigger.SAID_GOODBYE, SayGoodbyeAction())\n",
    "\n",
    "state_machine.add_transition(State.USER_GREETED, State.USER_GREETED, Trigger.INVALID_INPUT, InvalidInputAction())\n",
    "state_machine.add_transition(State.USER_GREETED, State.USER_GREETED, Trigger.SAID_GREETING, SayHelloAgainAction())\n",
    "state_machine.add_transition(State.USER_GREETED, State.USER_INTRODUCED, Trigger.INTRODUCED, SayTheirNameAction())\n",
    "state_machine.add_transition(State.USER_GREETED, State.USER_FINISHED, Trigger.SAID_GOODBYE, SayGoodbyeAction())\n",
    "\n",
    "state_machine.add_transition(State.USER_INTRODUCED, State.USER_INTRODUCED, Trigger.INVALID_INPUT, InvalidInputAction())\n",
    "state_machine.add_transition(State.USER_INTRODUCED, State.USER_INTRODUCED, Trigger.SAID_GREETING, SayHelloAgainAction())\n",
    "state_machine.add_transition(State.USER_INTRODUCED, State.USER_INTRODUCED, Trigger.INTRODUCED, SayTheirNameAction())\n",
    "state_machine.add_transition(State.USER_INTRODUCED, State.USER_FINISHED, Trigger.SAID_GOODBYE, SayGoodbyeAction())"
   ]
  },
  {
   "cell_type": "markdown",
   "id": "1b5bb630-c46c-4f50-9ba8-7e0525cb4319",
   "metadata": {},
   "source": [
    "Now, we need to read user input in a loop, and check for triggers."
   ]
  },
  {
   "cell_type": "code",
   "execution_count": 6,
   "id": "bd80129d-76f7-4f3f-a414-d5e0e80a006a",
   "metadata": {},
   "outputs": [],
   "source": [
    "import re\n",
    "\n",
    "greeting_re = re.compile(\n",
    "    r'سلام|درود|چطوری.*'\n",
    ")\n",
    "introduce_re = re.compile(\n",
    "    r'(اسم\\s+من|من)\\s+(.+)(\\s+است|ه|م)'\n",
    ")\n",
    "goodbye_re = re.compile(\n",
    "    r'خدافظ|خداحافظ|روز خوش|بدرود|فعلا'\n",
    ")"
   ]
  },
  {
   "cell_type": "code",
   "execution_count": 7,
   "id": "38193404-afc5-420d-bff7-738cdc67285d",
   "metadata": {},
   "outputs": [],
   "source": [
    "def handle_input(str):\n",
    "    if greeting_re.match(str):\n",
    "        state_machine.handle_trigger(Trigger.SAID_GREETING)\n",
    "        return\n",
    "    if goodbye_re.match(str):\n",
    "        state_machine.handle_trigger(Trigger.SAID_GOODBYE)\n",
    "        return\n",
    "    name = introduce_re.match(str)\n",
    "    if name:\n",
    "        state_machine.set_data({ 'name': name.groups()[-2] })\n",
    "        state_machine.handle_trigger(Trigger.INTRODUCED)\n",
    "    else:\n",
    "        state_machine.handle_trigger(Trigger.INVALID_INPUT)"
   ]
  },
  {
   "cell_type": "code",
   "execution_count": 8,
   "id": "01050b3f-5311-4cb2-be7e-cda1d113cfe6",
   "metadata": {},
   "outputs": [
    {
     "name": "stdin",
     "output_type": "stream",
     "text": [
      ">  درود\n"
     ]
    },
    {
     "name": "stdout",
     "output_type": "stream",
     "text": [
      "درود بر تو! میشه خودتو معرفی کنی؟\n"
     ]
    },
    {
     "name": "stdin",
     "output_type": "stream",
     "text": [
      ">  اسم من علی هست\n"
     ]
    },
    {
     "name": "stdout",
     "output_type": "stream",
     "text": [
      "سلام علی ، از آشناییت خوشبختم :)\n"
     ]
    },
    {
     "name": "stdin",
     "output_type": "stream",
     "text": [
      ">  اسم من علیه\n"
     ]
    },
    {
     "name": "stdout",
     "output_type": "stream",
     "text": [
      "سلام علی، از آشناییت خوشبختم :)\n"
     ]
    },
    {
     "name": "stdin",
     "output_type": "stream",
     "text": [
      ">  بدرود\n"
     ]
    },
    {
     "name": "stdout",
     "output_type": "stream",
     "text": [
      "روز خوبی داشته باشی علی عزیز\n"
     ]
    }
   ],
   "source": [
    "while state_machine.state != State.USER_FINISHED:\n",
    "    user_input = input('> ')\n",
    "    handle_input(user_input)"
   ]
  }
 ],
 "metadata": {
  "kernelspec": {
   "display_name": "learn-nlp",
   "language": "python",
   "name": "learn-nlp"
  },
  "language_info": {
   "codemirror_mode": {
    "name": "ipython",
    "version": 3
   },
   "file_extension": ".py",
   "mimetype": "text/x-python",
   "name": "python",
   "nbconvert_exporter": "python",
   "pygments_lexer": "ipython3",
   "version": "3.11.3"
  }
 },
 "nbformat": 4,
 "nbformat_minor": 5
}
